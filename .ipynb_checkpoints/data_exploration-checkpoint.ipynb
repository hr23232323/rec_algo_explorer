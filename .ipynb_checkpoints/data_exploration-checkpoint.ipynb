{
 "cells": [
  {
   "cell_type": "code",
   "execution_count": 120,
   "metadata": {},
   "outputs": [],
   "source": [
    "import numpy as np\n",
    "import pandas as pd\n",
    "import math\n",
    "import matplotlib.pyplot as plt\n",
    "from scipy import sparse\n",
    "import seaborn as sns\n",
    "import random"
   ]
  },
  {
   "cell_type": "code",
   "execution_count": 2,
   "metadata": {},
   "outputs": [],
   "source": [
    "#import data\n",
    "data = pd.read_csv(\"./data/combined_data_1.txt\", header = None, names = ['cust_id', 'rating', 'date'])"
   ]
  },
  {
   "cell_type": "code",
   "execution_count": 153,
   "metadata": {},
   "outputs": [
    {
     "name": "stdout",
     "output_type": "stream",
     "text": [
      "full dataset:(24058263, 3)\n",
      "for cleaning logic purposes: (10000, 3)\n"
     ]
    }
   ],
   "source": [
    "print(\"full dataset:\" + str(data.shape))\n",
    "# To build cleaning logic, take the first 100,000 rows (0.5%)\n",
    "df = data[:10000]\n",
    "print(\"for cleaning logic purposes: \" + str(df.shape))"
   ]
  },
  {
   "cell_type": "code",
   "execution_count": 154,
   "metadata": {},
   "outputs": [],
   "source": [
    "# Iterate and fill a list of python dicts. At end of loop, \n",
    "# put dict list in another pandas df. Want to look into more efficient method, but for now this'll do.\n",
    "\n",
    "df_clean = pd.DataFrame({'rating' : [], 'cust_id' : [], 'movie_id' : []})\n",
    "movie_id = -1\n",
    "append_dict = {}\n",
    "cust_conv_dict = {}\n",
    "movie_conv_dict = {}\n",
    "append_matrix = []\n",
    "for row in df.itertuples():\n",
    "    if(math.isnan(row[2])):\n",
    "        movie_ext_id = row[1][:-1]\n",
    "        if(movie_ext_id not in movie_conv_dict):\n",
    "            movie_conv_dict[movie_ext_id] = len(movie_conv_dict)\n",
    "        movie_id = movie_conv_dict[movie_ext_id]\n",
    "        continue\n",
    "    else:\n",
    "        cust_ext_id = float(row[1])\n",
    "        if(cust_ext_id not in cust_conv_dict):\n",
    "            cust_conv_dict[cust_ext_id] = len(cust_conv_dict)\n",
    "        cust_id = cust_conv_dict[cust_ext_id]\n",
    "        append_dict[\"rating\"] = float(row[2])\n",
    "        append_dict[\"cust_id\"] = cust_id\n",
    "        append_dict[\"movie_id\"] = movie_id\n",
    "        append_matrix.append(append_dict.copy())\n",
    "\n",
    "df_clean = df_clean.append(append_matrix,ignore_index=True)"
   ]
  },
  {
   "cell_type": "code",
   "execution_count": 155,
   "metadata": {},
   "outputs": [
    {
     "name": "stdout",
     "output_type": "stream",
     "text": [
      "   rating  cust_id  movie_id\n",
      "0     3.0      0.0       0.0\n",
      "1     5.0      1.0       0.0\n",
      "2     4.0      2.0       0.0\n",
      "3     4.0      3.0       0.0\n",
      "4     3.0      4.0       0.0\n",
      "5     3.0      5.0       0.0\n",
      "6     4.0      6.0       0.0\n",
      "7     3.0      7.0       0.0\n",
      "8     4.0      8.0       0.0\n",
      "9     3.0      9.0       0.0\n"
     ]
    }
   ],
   "source": [
    "print(df_clean.head(10))"
   ]
  },
  {
   "cell_type": "code",
   "execution_count": 156,
   "metadata": {},
   "outputs": [
    {
     "name": "stdout",
     "output_type": "stream",
     "text": [
      "Customers: 9619\n",
      "Movies: 8\n",
      "overlap%: 0.9619\n"
     ]
    }
   ],
   "source": [
    "# Check for how many unique movies and customer\n",
    "print(\"Customers: \" + str(df_clean[\"cust_id\"].nunique()))\n",
    "print(\"Movies: \" + str(df_clean[\"movie_id\"].nunique()))\n",
    "print(\"overlap%: \" + str(df_clean[\"cust_id\"].nunique()/df.shape[0]))"
   ]
  },
  {
   "cell_type": "code",
   "execution_count": 157,
   "metadata": {},
   "outputs": [],
   "source": [
    "# Create sparse matrix and test train splits\n",
    "df_clean = df_clean.sample(frac=1)\n",
    "n_users = df_clean[\"cust_id\"].nunique()\n",
    "n_movies = df_clean[\"movie_id\"].nunique()\n",
    "train_percent = 0.8\n",
    "msk = np.random.rand(len(df_clean)) < train_percent\n",
    "df_raw_train = df_clean[msk]\n",
    "df_raw_test = df_clean[~msk]\n",
    "\n",
    "\n",
    "df_train = sparse.coo_matrix((df_raw_train[\"rating\"], (df_raw_train[\"cust_id\"], df_raw_train[\"movie_id\"])), \n",
    "                          shape=(n_users, n_movies))\n",
    "df_test = sparse.coo_matrix((df_raw_test[\"rating\"], (df_raw_test[\"cust_id\"], df_raw_test[\"movie_id\"])), \n",
    "                         shape=(n_users, n_movies))"
   ]
  },
  {
   "cell_type": "code",
   "execution_count": 158,
   "metadata": {},
   "outputs": [],
   "source": [
    "# FIRST REC ALGO!!\n",
    "from sklearn.metrics.pairwise import pairwise_distances\n",
    "\n",
    "# User Similarity Matrix\n",
    "user_correlation = 1 - pairwise_distances(df_train.todense(), metric='correlation')\n",
    "user_correlation[np.isnan(user_correlation)] = 0\n",
    "\n",
    "# Function to predict ratings\n",
    "def predict(ratings, similarity):\n",
    "    mean_user_rating = ratings.mean(axis=1)\n",
    "    # Use np.newaxis so that mean_user_rating has same format as ratings\n",
    "    ratings_diff = (ratings - mean_user_rating[:, np.newaxis])\n",
    "    pred = mean_user_rating[:, np.newaxis] + similarity.dot(ratings_diff) / np.array([np.abs(similarity).sum(axis=1)]).T\n",
    "    return pred\n",
    "\n"
   ]
  },
  {
   "cell_type": "code",
   "execution_count": null,
   "metadata": {},
   "outputs": [],
   "source": []
  }
 ],
 "metadata": {
  "kernelspec": {
   "display_name": "Python 3",
   "language": "python",
   "name": "python3"
  },
  "language_info": {
   "codemirror_mode": {
    "name": "ipython",
    "version": 3
   },
   "file_extension": ".py",
   "mimetype": "text/x-python",
   "name": "python",
   "nbconvert_exporter": "python",
   "pygments_lexer": "ipython3",
   "version": "3.7.1"
  }
 },
 "nbformat": 4,
 "nbformat_minor": 2
}
