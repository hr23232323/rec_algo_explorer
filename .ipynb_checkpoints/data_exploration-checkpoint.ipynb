{
 "cells": [
  {
   "cell_type": "code",
   "execution_count": 19,
   "metadata": {},
   "outputs": [],
   "source": [
    "import numpy as np\n",
    "import pandas as pd\n",
    "import math"
   ]
  },
  {
   "cell_type": "code",
   "execution_count": 3,
   "metadata": {},
   "outputs": [],
   "source": [
    "#import data\n",
    "data = pd.read_csv(\"./data/combined_data_1.txt\", header = None, names = ['cust_id', 'rating', 'date'])"
   ]
  },
  {
   "cell_type": "code",
   "execution_count": 13,
   "metadata": {},
   "outputs": [
    {
     "name": "stdout",
     "output_type": "stream",
     "text": [
      "full dataset:(24058263, 3)\n",
      "for cleaning logic purposes: (100000, 3)\n"
     ]
    }
   ],
   "source": [
    "print(\"full dataset:\" + str(data.shape))\n",
    "# To build cleaning logic, take the first 100,000 rows (0.5%)\n",
    "df = data[:100000]\n",
    "print(\"for cleaning logic purposes: \" + str(df.shape))"
   ]
  },
  {
   "cell_type": "code",
   "execution_count": 15,
   "metadata": {},
   "outputs": [
    {
     "name": "stdout",
     "output_type": "stream",
     "text": [
      "   cust_id  rating        date\n",
      "0       1:     NaN         NaN\n",
      "1  1488844     3.0  2005-09-06\n",
      "2   822109     5.0  2005-05-13\n",
      "3   885013     4.0  2005-10-19\n",
      "4    30878     4.0  2005-12-26\n",
      "5   823519     3.0  2004-05-03\n",
      "6   893988     3.0  2005-11-17\n",
      "7   124105     4.0  2004-08-05\n",
      "8  1248029     3.0  2004-04-22\n",
      "9  1842128     4.0  2004-05-09\n"
     ]
    }
   ],
   "source": [
    "print(df.head(10))"
   ]
  },
  {
   "cell_type": "code",
   "execution_count": 31,
   "metadata": {},
   "outputs": [
    {
     "name": "stdout",
     "output_type": "stream",
     "text": [
      "      cust_id  rating date\n",
      "0          1:     NaN  NaN\n",
      "548        2:     NaN  NaN\n",
      "694        3:     NaN  NaN\n",
      "2707       4:     NaN  NaN\n",
      "2850       5:     NaN  NaN\n",
      "3991       6:     NaN  NaN\n",
      "5011       7:     NaN  NaN\n",
      "5105       8:     NaN  NaN\n",
      "20016      9:     NaN  NaN\n",
      "20112     10:     NaN  NaN\n",
      "20362     11:     NaN  NaN\n",
      "20561     12:     NaN  NaN\n",
      "21108     13:     NaN  NaN\n",
      "21234     14:     NaN  NaN\n",
      "21353     15:     NaN  NaN\n",
      "21644     16:     NaN  NaN\n",
      "24344     17:     NaN  NaN\n",
      "31453     18:     NaN  NaN\n",
      "42176     19:     NaN  NaN\n",
      "42716     20:     NaN  NaN\n",
      "42833     21:     NaN  NaN\n",
      "43052     22:     NaN  NaN\n",
      "43256     23:     NaN  NaN\n",
      "43872     24:     NaN  NaN\n",
      "45206     25:     NaN  NaN\n",
      "46414     26:     NaN  NaN\n",
      "52276     27:     NaN  NaN\n",
      "52550     28:     NaN  NaN\n",
      "92303     29:     NaN  NaN\n",
      "92827     30:     NaN  NaN\n"
     ]
    }
   ],
   "source": [
    "#print(df[\"rating\"].where())\n",
    "print(df[df[\"rating\"].isnull()])"
   ]
  },
  {
   "cell_type": "code",
   "execution_count": 29,
   "metadata": {},
   "outputs": [
    {
     "name": "stdout",
     "output_type": "stream",
     "text": [
      "cust_id    False\n",
      "rating      True\n",
      "date        True\n",
      "dtype: bool\n"
     ]
    }
   ],
   "source": []
  },
  {
   "cell_type": "code",
   "execution_count": null,
   "metadata": {},
   "outputs": [],
   "source": []
  }
 ],
 "metadata": {
  "kernelspec": {
   "display_name": "Python 3",
   "language": "python",
   "name": "python3"
  },
  "language_info": {
   "codemirror_mode": {
    "name": "ipython",
    "version": 3
   },
   "file_extension": ".py",
   "mimetype": "text/x-python",
   "name": "python",
   "nbconvert_exporter": "python",
   "pygments_lexer": "ipython3",
   "version": "3.7.1"
  }
 },
 "nbformat": 4,
 "nbformat_minor": 2
}
