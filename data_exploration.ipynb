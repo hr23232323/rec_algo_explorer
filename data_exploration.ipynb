{
 "cells": [
  {
   "cell_type": "code",
   "execution_count": 28,
   "metadata": {},
   "outputs": [],
   "source": [
    "import numpy as np\n",
    "import pandas as pd\n",
    "import math\n",
    "import matplotlib.pyplot as plt\n",
    "from scipy import sparse"
   ]
  },
  {
   "cell_type": "code",
   "execution_count": 2,
   "metadata": {},
   "outputs": [],
   "source": [
    "#import data\n",
    "data = pd.read_csv(\"./data/combined_data_1.txt\", header = None, names = ['cust_id', 'rating', 'date'])"
   ]
  },
  {
   "cell_type": "code",
   "execution_count": 22,
   "metadata": {},
   "outputs": [
    {
     "name": "stdout",
     "output_type": "stream",
     "text": [
      "full dataset:(24058263, 3)\n",
      "for cleaning logic purposes: (10000, 3)\n"
     ]
    }
   ],
   "source": [
    "print(\"full dataset:\" + str(data.shape))\n",
    "# To build cleaning logic, take the first 100,000 rows (0.5%)\n",
    "df = data[:10000]\n",
    "print(\"for cleaning logic purposes: \" + str(df.shape))"
   ]
  },
  {
   "cell_type": "code",
   "execution_count": 66,
   "metadata": {},
   "outputs": [],
   "source": [
    "# Iterate and fill a list of python dicts. At end of loop, \n",
    "# put dict list in another pandas df. Want to look into more efficient method, but for now this'll do.\n",
    "\n",
    "df_clean = pd.DataFrame({'rating' : [], 'cust_id' : [], 'movie_id' : []})\n",
    "movie_id = -1\n",
    "append_dict = {}\n",
    "cust_conv_dict = {}\n",
    "movie_conv_dict = {}\n",
    "append_matrix = []\n",
    "for row in df.itertuples():\n",
    "    if(math.isnan(row[2])):\n",
    "        movie_ext_id = row[1][:-1]\n",
    "        if(movie_ext_id not in movie_conv_dict):\n",
    "            movie_conv_dict[movie_ext_id] = len(movie_conv_dict)\n",
    "        movie_id = movie_conv_dict[movie_ext_id]\n",
    "        continue\n",
    "    else:\n",
    "        cust_ext_id = float(row[1])\n",
    "        if(cust_ext_id not in cust_conv_dict):\n",
    "            cust_conv_dict[cust_ext_id] = len(cust_conv_dict)\n",
    "        cust_id = cust_conv_dict[cust_ext_id]\n",
    "        append_dict[\"rating\"] = float(row[2])\n",
    "        append_dict[\"cust_id\"] = cust_id\n",
    "        append_dict[\"movie_id\"] = movie_id\n",
    "        append_matrix.append(append_dict.copy())\n",
    "\n",
    "df_clean = df_clean.append(append_matrix,ignore_index=True)   \n",
    "\n",
    "## NEED A DATASET TO INTERNAL ID CONVERSION"
   ]
  },
  {
   "cell_type": "code",
   "execution_count": 67,
   "metadata": {},
   "outputs": [
    {
     "name": "stdout",
     "output_type": "stream",
     "text": [
      "   rating  cust_id  movie_id\n",
      "0     3.0      0.0       0.0\n",
      "1     5.0      1.0       0.0\n",
      "2     4.0      2.0       0.0\n",
      "3     4.0      3.0       0.0\n",
      "4     3.0      4.0       0.0\n",
      "5     3.0      5.0       0.0\n",
      "6     4.0      6.0       0.0\n",
      "7     3.0      7.0       0.0\n",
      "8     4.0      8.0       0.0\n",
      "9     3.0      9.0       0.0\n"
     ]
    }
   ],
   "source": [
    "print(df_clean.head(10))"
   ]
  },
  {
   "cell_type": "code",
   "execution_count": 68,
   "metadata": {},
   "outputs": [],
   "source": [
    "#plt.pcolormesh(df_clean)\n",
    "#plt.yticks(np.arange(0.5, len(df_clean.index), 1), df_clean.index)\n",
    "#plt.xticks(np.arange(0.5, len(df_clean.columns), 1), df_clean.columns)\n",
    "#plt.show()"
   ]
  },
  {
   "cell_type": "code",
   "execution_count": 69,
   "metadata": {},
   "outputs": [
    {
     "name": "stdout",
     "output_type": "stream",
     "text": [
      "(9992, 3)\n",
      "Customers: 9619\n",
      "Movies: 8\n",
      "overlap%: 0.9619\n",
      "[0. 1. 2. 3. 4. 5. 6. 7.]\n",
      "[0.000e+00 1.000e+00 2.000e+00 ... 9.616e+03 9.617e+03 9.618e+03]\n"
     ]
    }
   ],
   "source": [
    "# Check for how many unique movies and customer\n",
    "print(df_clean.shape)\n",
    "print(\"Customers: \" + str(df_clean[\"cust_id\"].nunique()))\n",
    "print(\"Movies: \" + str(df_clean[\"movie_id\"].nunique()))\n",
    "print(\"overlap%: \" + str(df_clean[\"cust_id\"].nunique()/df.shape[0]))\n",
    "print(df_clean[\"movie_id\"].unique())\n",
    "print(df_clean[\"cust_id\"].unique())"
   ]
  },
  {
   "cell_type": "code",
   "execution_count": 71,
   "metadata": {},
   "outputs": [
    {
     "name": "stdout",
     "output_type": "stream",
     "text": [
      "(9619, 8)\n"
     ]
    }
   ],
   "source": [
    "try:\n",
    "    df_sp = sparse.coo_matrix((df_clean[\"rating\"], (df_clean[\"cust_id\"], df_clean[\"movie_id\"])), \n",
    "                          shape=(df_clean[\"cust_id\"].nunique(), df_clean[\"movie_id\"].nunique()))\n",
    "except ValueError as err:\n",
    "    print(err)\n",
    "    pass\n",
    "print(df_sp.shape)"
   ]
  },
  {
   "cell_type": "code",
   "execution_count": null,
   "metadata": {},
   "outputs": [],
   "source": []
  }
 ],
 "metadata": {
  "kernelspec": {
   "display_name": "Python 3",
   "language": "python",
   "name": "python3"
  },
  "language_info": {
   "codemirror_mode": {
    "name": "ipython",
    "version": 3
   },
   "file_extension": ".py",
   "mimetype": "text/x-python",
   "name": "python",
   "nbconvert_exporter": "python",
   "pygments_lexer": "ipython3",
   "version": "3.7.1"
  }
 },
 "nbformat": 4,
 "nbformat_minor": 2
}
