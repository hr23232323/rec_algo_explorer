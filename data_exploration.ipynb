{
 "cells": [
  {
   "cell_type": "code",
   "execution_count": 1,
   "metadata": {},
   "outputs": [],
   "source": [
    "import numpy as np\n",
    "import pandas as pd\n",
    "import math\n",
    "import matplotlib.pyplot as plt"
   ]
  },
  {
   "cell_type": "code",
   "execution_count": 2,
   "metadata": {},
   "outputs": [],
   "source": [
    "#import data\n",
    "data = pd.read_csv(\"./data/combined_data_1.txt\", header = None, names = ['cust_id', 'rating', 'date'])"
   ]
  },
  {
   "cell_type": "code",
   "execution_count": 22,
   "metadata": {},
   "outputs": [
    {
     "name": "stdout",
     "output_type": "stream",
     "text": [
      "full dataset:(24058263, 3)\n",
      "for cleaning logic purposes: (10000, 3)\n"
     ]
    }
   ],
   "source": [
    "print(\"full dataset:\" + str(data.shape))\n",
    "# To build cleaning logic, take the first 100,000 rows (0.5%)\n",
    "df = data[:10000]\n",
    "print(\"for cleaning logic purposes: \" + str(df.shape))"
   ]
  },
  {
   "cell_type": "code",
   "execution_count": 23,
   "metadata": {},
   "outputs": [],
   "source": [
    "# Iterate and fill a list of python dicts. At end of loop, \n",
    "# put dict list in another pandas df. Want to look into more efficient method, but for now this'll do.\n",
    "\n",
    "df_clean = pd.DataFrame({'cust_id' : [], 'movie_id' : [], 'rating' : []})\n",
    "movie_id = -1\n",
    "append_dict = {}\n",
    "append_matrix = []\n",
    "for row in df.itertuples():\n",
    "    if(math.isnan(row[2])):\n",
    "        movie_id = row[1][:-1]\n",
    "        continue\n",
    "    else:\n",
    "        append_dict[\"cust_id\"] = float(row[1])\n",
    "        append_dict[\"movie_id\"] = float(movie_id)\n",
    "        append_dict[\"rating\"] = float(row[2])\n",
    "        append_matrix.append(append_dict.copy())\n",
    "\n",
    "df_clean = df_clean.append(append_matrix,ignore_index=True)    "
   ]
  },
  {
   "cell_type": "code",
   "execution_count": 24,
   "metadata": {},
   "outputs": [
    {
     "name": "stdout",
     "output_type": "stream",
     "text": [
      "     cust_id  movie_id  rating\n",
      "0  1488844.0       1.0     3.0\n",
      "1   822109.0       1.0     5.0\n",
      "2   885013.0       1.0     4.0\n",
      "3    30878.0       1.0     4.0\n",
      "4   823519.0       1.0     3.0\n",
      "5   893988.0       1.0     3.0\n",
      "6   124105.0       1.0     4.0\n",
      "7  1248029.0       1.0     3.0\n",
      "8  1842128.0       1.0     4.0\n",
      "9  2238063.0       1.0     3.0\n"
     ]
    }
   ],
   "source": [
    "print(df_clean.head(10))"
   ]
  },
  {
   "cell_type": "code",
   "execution_count": 25,
   "metadata": {},
   "outputs": [],
   "source": [
    "#plt.pcolormesh(df_clean)\n",
    "#plt.yticks(np.arange(0.5, len(df_clean.index), 1), df_clean.index)\n",
    "#plt.xticks(np.arange(0.5, len(df_clean.columns), 1), df_clean.columns)\n",
    "#plt.show()"
   ]
  },
  {
   "cell_type": "code",
   "execution_count": 26,
   "metadata": {},
   "outputs": [
    {
     "name": "stdout",
     "output_type": "stream",
     "text": [
      "(10000, 3)\n",
      "Customers: 9619\n",
      "Movies: 8\n",
      "overlap%: 0.9619\n"
     ]
    }
   ],
   "source": [
    "# Check for how many unique movies and customer\n",
    "print(df.shape)\n",
    "print(\"Customers: \" + str(df_clean[\"cust_id\"].nunique()))\n",
    "print(\"Movies: \" + str(df_clean[\"movie_id\"].nunique()))\n",
    "print(\"overlap%: \" + str(df_clean[\"cust_id\"].nunique()/df.shape[0]))"
   ]
  },
  {
   "cell_type": "code",
   "execution_count": null,
   "metadata": {},
   "outputs": [],
   "source": []
  }
 ],
 "metadata": {
  "kernelspec": {
   "display_name": "Python 3",
   "language": "python",
   "name": "python3"
  },
  "language_info": {
   "codemirror_mode": {
    "name": "ipython",
    "version": 3
   },
   "file_extension": ".py",
   "mimetype": "text/x-python",
   "name": "python",
   "nbconvert_exporter": "python",
   "pygments_lexer": "ipython3",
   "version": "3.7.1"
  }
 },
 "nbformat": 4,
 "nbformat_minor": 2
}
