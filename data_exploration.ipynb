{
 "cells": [
  {
   "cell_type": "code",
   "execution_count": 120,
   "metadata": {},
   "outputs": [],
   "source": [
    "import numpy as np\n",
    "import pandas as pd\n",
    "import math\n",
    "import matplotlib.pyplot as plt\n",
    "from scipy import sparse\n",
    "import seaborn as sns\n",
    "import random"
   ]
  },
  {
   "cell_type": "code",
   "execution_count": 2,
   "metadata": {},
   "outputs": [],
   "source": [
    "#import data\n",
    "data = pd.read_csv(\"./data/combined_data_1.txt\", header = None, names = ['cust_id', 'rating', 'date'])"
   ]
  },
  {
   "cell_type": "code",
   "execution_count": 179,
   "metadata": {},
   "outputs": [
    {
     "name": "stdout",
     "output_type": "stream",
     "text": [
      "full dataset:(24058263, 3)\n",
      "for cleaning logic purposes: (10000, 3)\n"
     ]
    }
   ],
   "source": [
    "print(\"full dataset:\" + str(data.shape))\n",
    "# To build cleaning logic, take the first 100,000 rows (0.5%)\n",
    "df = data[:10000]\n",
    "print(\"for cleaning logic purposes: \" + str(df.shape))"
   ]
  },
  {
   "cell_type": "code",
   "execution_count": 180,
   "metadata": {},
   "outputs": [],
   "source": [
    "# Iterate and fill a list of python dicts. At end of loop, \n",
    "# put dict list in another pandas df. Want to look into more efficient method, but for now this'll do.\n",
    "\n",
    "df_clean = pd.DataFrame({'rating' : [], 'cust_id' : [], 'movie_id' : []})\n",
    "movie_id = -1\n",
    "append_dict = {}\n",
    "cust_conv_dict = {}\n",
    "movie_conv_dict = {}\n",
    "append_matrix = []\n",
    "for row in df.itertuples():\n",
    "    if(math.isnan(row[2])):\n",
    "        movie_ext_id = row[1][:-1]\n",
    "        if(movie_ext_id not in movie_conv_dict):\n",
    "            movie_conv_dict[movie_ext_id] = len(movie_conv_dict)\n",
    "        movie_id = movie_conv_dict[movie_ext_id]\n",
    "        continue\n",
    "    else:\n",
    "        cust_ext_id = float(row[1])\n",
    "        if(cust_ext_id not in cust_conv_dict):\n",
    "            cust_conv_dict[cust_ext_id] = len(cust_conv_dict)\n",
    "        cust_id = cust_conv_dict[cust_ext_id]\n",
    "        append_dict[\"rating\"] = float(row[2])\n",
    "        append_dict[\"cust_id\"] = cust_id\n",
    "        append_dict[\"movie_id\"] = movie_id\n",
    "        append_matrix.append(append_dict.copy())\n",
    "\n",
    "df_clean = df_clean.append(append_matrix,ignore_index=True)"
   ]
  },
  {
   "cell_type": "code",
   "execution_count": 181,
   "metadata": {},
   "outputs": [
    {
     "name": "stdout",
     "output_type": "stream",
     "text": [
      "   rating  cust_id  movie_id\n",
      "0     3.0      0.0       0.0\n",
      "1     5.0      1.0       0.0\n",
      "2     4.0      2.0       0.0\n",
      "3     4.0      3.0       0.0\n",
      "4     3.0      4.0       0.0\n",
      "5     3.0      5.0       0.0\n",
      "6     4.0      6.0       0.0\n",
      "7     3.0      7.0       0.0\n",
      "8     4.0      8.0       0.0\n",
      "9     3.0      9.0       0.0\n"
     ]
    }
   ],
   "source": [
    "print(df_clean.head(10))"
   ]
  },
  {
   "cell_type": "code",
   "execution_count": 182,
   "metadata": {},
   "outputs": [
    {
     "name": "stdout",
     "output_type": "stream",
     "text": [
      "Customers: 9619\n",
      "Movies: 8\n",
      "overlap%: 0.9619\n"
     ]
    }
   ],
   "source": [
    "# Check for how many unique movies and customer\n",
    "print(\"Customers: \" + str(df_clean[\"cust_id\"].nunique()))\n",
    "print(\"Movies: \" + str(df_clean[\"movie_id\"].nunique()))\n",
    "print(\"overlap%: \" + str(df_clean[\"cust_id\"].nunique()/df.shape[0]))"
   ]
  },
  {
   "cell_type": "code",
   "execution_count": 183,
   "metadata": {},
   "outputs": [],
   "source": [
    "# Create sparse matrix and test train splits\n",
    "df_clean = df_clean.sample(frac=1)\n",
    "n_users = df_clean[\"cust_id\"].nunique()\n",
    "n_movies = df_clean[\"movie_id\"].nunique()\n",
    "train_percent = 0.8\n",
    "msk = np.random.rand(len(df_clean)) < train_percent\n",
    "df_raw_train = df_clean[msk]\n",
    "df_raw_test = df_clean[~msk]\n",
    "\n",
    "\n",
    "df_train = sparse.coo_matrix((df_raw_train[\"rating\"], (df_raw_train[\"cust_id\"], df_raw_train[\"movie_id\"])), \n",
    "                          shape=(n_users, n_movies))\n",
    "df_test = sparse.coo_matrix((df_raw_test[\"rating\"], (df_raw_test[\"cust_id\"], df_raw_test[\"movie_id\"])), \n",
    "                         shape=(n_users, n_movies))"
   ]
  },
  {
   "cell_type": "code",
   "execution_count": 194,
   "metadata": {},
   "outputs": [],
   "source": [
    "# FIRST REC ALGO!!\n",
    "from sklearn.metrics.pairwise import pairwise_distances\n",
    "\n",
    "# User Similarity Matrix\n",
    "user_correlation = 1 - pairwise_distances(df_train.todense(), metric='correlation')\n",
    "user_correlation[np.isnan(user_correlation)] = 0\n",
    "\n",
    "# Function to predict ratings\n",
    "def predict(ratings, similarity):\n",
    "    mean_user_rating = ratings.mean(axis=1)\n",
    "    # Use np.newaxis so that mean_user_rating has same format as ratings\n",
    "    ratings_diff = (ratings - mean_user_rating[:, np.newaxis])\n",
    "    pred = mean_user_rating[:, np.newaxis] + similarity.dot(ratings_diff) / np.array([np.abs(similarity).sum(axis=1)]).T\n",
    "    return pred"
   ]
  },
  {
   "cell_type": "code",
   "execution_count": 195,
   "metadata": {},
   "outputs": [
    {
     "ename": "ValueError",
     "evalue": "Unable to coerce to DataFrame, shape must be (8009, 3): given (8009, 1)",
     "output_type": "error",
     "traceback": [
      "\u001b[1;31m---------------------------------------------------------------------------\u001b[0m",
      "\u001b[1;31mValueError\u001b[0m                                Traceback (most recent call last)",
      "\u001b[1;32m<ipython-input-195-970861d1330f>\u001b[0m in \u001b[0;36m<module>\u001b[1;34m\u001b[0m\n\u001b[0;32m     10\u001b[0m \u001b[1;33m\u001b[0m\u001b[0m\n\u001b[0;32m     11\u001b[0m \u001b[1;31m# Predict ratings on the training data with both similarity score\u001b[0m\u001b[1;33m\u001b[0m\u001b[1;33m\u001b[0m\u001b[1;33m\u001b[0m\u001b[0m\n\u001b[1;32m---> 12\u001b[1;33m \u001b[0muser_prediction\u001b[0m \u001b[1;33m=\u001b[0m \u001b[0mpredict\u001b[0m\u001b[1;33m(\u001b[0m\u001b[0mdf_raw_train\u001b[0m\u001b[1;33m,\u001b[0m \u001b[0muser_correlation\u001b[0m\u001b[1;33m)\u001b[0m\u001b[1;33m\u001b[0m\u001b[1;33m\u001b[0m\u001b[0m\n\u001b[0m\u001b[0;32m     13\u001b[0m \u001b[1;33m\u001b[0m\u001b[0m\n\u001b[0;32m     14\u001b[0m \u001b[1;31m# RMSE on the train data\u001b[0m\u001b[1;33m\u001b[0m\u001b[1;33m\u001b[0m\u001b[1;33m\u001b[0m\u001b[0m\n",
      "\u001b[1;32m<ipython-input-194-3eadfd6d73b1>\u001b[0m in \u001b[0;36mpredict\u001b[1;34m(ratings, similarity)\u001b[0m\n\u001b[0;32m     10\u001b[0m     \u001b[0mmean_user_rating\u001b[0m \u001b[1;33m=\u001b[0m \u001b[0mratings\u001b[0m\u001b[1;33m.\u001b[0m\u001b[0mmean\u001b[0m\u001b[1;33m(\u001b[0m\u001b[0maxis\u001b[0m\u001b[1;33m=\u001b[0m\u001b[1;36m1\u001b[0m\u001b[1;33m)\u001b[0m\u001b[1;33m\u001b[0m\u001b[1;33m\u001b[0m\u001b[0m\n\u001b[0;32m     11\u001b[0m     \u001b[1;31m# Use np.newaxis so that mean_user_rating has same format as ratings\u001b[0m\u001b[1;33m\u001b[0m\u001b[1;33m\u001b[0m\u001b[1;33m\u001b[0m\u001b[0m\n\u001b[1;32m---> 12\u001b[1;33m     \u001b[0mratings_diff\u001b[0m \u001b[1;33m=\u001b[0m \u001b[1;33m(\u001b[0m\u001b[0mratings\u001b[0m \u001b[1;33m-\u001b[0m \u001b[0mmean_user_rating\u001b[0m\u001b[1;33m[\u001b[0m\u001b[1;33m:\u001b[0m\u001b[1;33m,\u001b[0m \u001b[0mnp\u001b[0m\u001b[1;33m.\u001b[0m\u001b[0mnewaxis\u001b[0m\u001b[1;33m]\u001b[0m\u001b[1;33m)\u001b[0m\u001b[1;33m\u001b[0m\u001b[1;33m\u001b[0m\u001b[0m\n\u001b[0m\u001b[0;32m     13\u001b[0m     \u001b[0mpred\u001b[0m \u001b[1;33m=\u001b[0m \u001b[0mmean_user_rating\u001b[0m\u001b[1;33m[\u001b[0m\u001b[1;33m:\u001b[0m\u001b[1;33m,\u001b[0m \u001b[0mnp\u001b[0m\u001b[1;33m.\u001b[0m\u001b[0mnewaxis\u001b[0m\u001b[1;33m]\u001b[0m \u001b[1;33m+\u001b[0m \u001b[0msimilarity\u001b[0m\u001b[1;33m.\u001b[0m\u001b[0mdot\u001b[0m\u001b[1;33m(\u001b[0m\u001b[0mratings_diff\u001b[0m\u001b[1;33m)\u001b[0m \u001b[1;33m/\u001b[0m \u001b[0mnp\u001b[0m\u001b[1;33m.\u001b[0m\u001b[0marray\u001b[0m\u001b[1;33m(\u001b[0m\u001b[1;33m[\u001b[0m\u001b[0mnp\u001b[0m\u001b[1;33m.\u001b[0m\u001b[0mabs\u001b[0m\u001b[1;33m(\u001b[0m\u001b[0msimilarity\u001b[0m\u001b[1;33m)\u001b[0m\u001b[1;33m.\u001b[0m\u001b[0msum\u001b[0m\u001b[1;33m(\u001b[0m\u001b[0maxis\u001b[0m\u001b[1;33m=\u001b[0m\u001b[1;36m1\u001b[0m\u001b[1;33m)\u001b[0m\u001b[1;33m]\u001b[0m\u001b[1;33m)\u001b[0m\u001b[1;33m.\u001b[0m\u001b[0mT\u001b[0m\u001b[1;33m\u001b[0m\u001b[1;33m\u001b[0m\u001b[0m\n\u001b[0;32m     14\u001b[0m     \u001b[1;32mreturn\u001b[0m \u001b[0mpred\u001b[0m\u001b[1;33m\u001b[0m\u001b[1;33m\u001b[0m\u001b[0m\n",
      "\u001b[1;32mc:\\python37\\lib\\site-packages\\pandas\\core\\ops.py\u001b[0m in \u001b[0;36mf\u001b[1;34m(self, other, axis, level, fill_value)\u001b[0m\n\u001b[0;32m   1545\u001b[0m     \u001b[1;32mdef\u001b[0m \u001b[0mf\u001b[0m\u001b[1;33m(\u001b[0m\u001b[0mself\u001b[0m\u001b[1;33m,\u001b[0m \u001b[0mother\u001b[0m\u001b[1;33m,\u001b[0m \u001b[0maxis\u001b[0m\u001b[1;33m=\u001b[0m\u001b[0mdefault_axis\u001b[0m\u001b[1;33m,\u001b[0m \u001b[0mlevel\u001b[0m\u001b[1;33m=\u001b[0m\u001b[1;32mNone\u001b[0m\u001b[1;33m,\u001b[0m \u001b[0mfill_value\u001b[0m\u001b[1;33m=\u001b[0m\u001b[1;32mNone\u001b[0m\u001b[1;33m)\u001b[0m\u001b[1;33m:\u001b[0m\u001b[1;33m\u001b[0m\u001b[1;33m\u001b[0m\u001b[0m\n\u001b[0;32m   1546\u001b[0m \u001b[1;33m\u001b[0m\u001b[0m\n\u001b[1;32m-> 1547\u001b[1;33m         \u001b[0mother\u001b[0m \u001b[1;33m=\u001b[0m \u001b[0m_align_method_FRAME\u001b[0m\u001b[1;33m(\u001b[0m\u001b[0mself\u001b[0m\u001b[1;33m,\u001b[0m \u001b[0mother\u001b[0m\u001b[1;33m,\u001b[0m \u001b[0maxis\u001b[0m\u001b[1;33m)\u001b[0m\u001b[1;33m\u001b[0m\u001b[1;33m\u001b[0m\u001b[0m\n\u001b[0m\u001b[0;32m   1548\u001b[0m \u001b[1;33m\u001b[0m\u001b[0m\n\u001b[0;32m   1549\u001b[0m         \u001b[1;32mif\u001b[0m \u001b[0misinstance\u001b[0m\u001b[1;33m(\u001b[0m\u001b[0mother\u001b[0m\u001b[1;33m,\u001b[0m \u001b[0mABCDataFrame\u001b[0m\u001b[1;33m)\u001b[0m\u001b[1;33m:\u001b[0m  \u001b[1;31m# Another DataFrame\u001b[0m\u001b[1;33m\u001b[0m\u001b[1;33m\u001b[0m\u001b[0m\n",
      "\u001b[1;32mc:\\python37\\lib\\site-packages\\pandas\\core\\ops.py\u001b[0m in \u001b[0;36m_align_method_FRAME\u001b[1;34m(left, right, axis)\u001b[0m\n\u001b[0;32m   1468\u001b[0m                                  \u001b[1;34m\"must be {req_shape}: given {given_shape}\"\u001b[0m\u001b[1;33m\u001b[0m\u001b[1;33m\u001b[0m\u001b[0m\n\u001b[0;32m   1469\u001b[0m                                  .format(req_shape=left.shape,\n\u001b[1;32m-> 1470\u001b[1;33m                                          given_shape=right.shape))\n\u001b[0m\u001b[0;32m   1471\u001b[0m \u001b[1;33m\u001b[0m\u001b[0m\n\u001b[0;32m   1472\u001b[0m             right = left._constructor(right, index=left.index,\n",
      "\u001b[1;31mValueError\u001b[0m: Unable to coerce to DataFrame, shape must be (8009, 3): given (8009, 1)"
     ]
    }
   ],
   "source": [
    "from sklearn.metrics import mean_squared_error\n",
    "from math import sqrt\n",
    "\n",
    "# Function to calculate RMSE\n",
    "def rmse(pred, actual):\n",
    "    # Ignore nonzero terms.\n",
    "    pred = pred[actual.nonzero()].flatten()\n",
    "    actual = actual[actual.nonzero()].flatten()\n",
    "    return sqrt(mean_squared_error(pred, actual))\n",
    "\n",
    "# Predict ratings on the training data with both similarity score\n",
    "user_prediction = predict(df_raw_train, user_correlation)\n",
    "\n",
    "# RMSE on the train data\n",
    "print('User-based CF RMSE: ' + str(rmse(user_prediction, train_data_matrix)))"
   ]
  },
  {
   "cell_type": "code",
   "execution_count": null,
   "metadata": {},
   "outputs": [],
   "source": []
  },
  {
   "cell_type": "code",
   "execution_count": null,
   "metadata": {},
   "outputs": [],
   "source": []
  }
 ],
 "metadata": {
  "kernelspec": {
   "display_name": "Python 3",
   "language": "python",
   "name": "python3"
  },
  "language_info": {
   "codemirror_mode": {
    "name": "ipython",
    "version": 3
   },
   "file_extension": ".py",
   "mimetype": "text/x-python",
   "name": "python",
   "nbconvert_exporter": "python",
   "pygments_lexer": "ipython3",
   "version": "3.7.1"
  }
 },
 "nbformat": 4,
 "nbformat_minor": 2
}
