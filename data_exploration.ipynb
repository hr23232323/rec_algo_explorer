{
 "cells": [
  {
   "cell_type": "code",
   "execution_count": 1,
   "metadata": {},
   "outputs": [],
   "source": [
    "import numpy as np\n",
    "import pandas as pd\n",
    "import math"
   ]
  },
  {
   "cell_type": "code",
   "execution_count": 2,
   "metadata": {},
   "outputs": [],
   "source": [
    "#import data\n",
    "data = pd.read_csv(\"./data/combined_data_1.txt\", header = None, names = ['cust_id', 'rating', 'date'])"
   ]
  },
  {
   "cell_type": "code",
   "execution_count": 3,
   "metadata": {},
   "outputs": [
    {
     "name": "stdout",
     "output_type": "stream",
     "text": [
      "full dataset:(24058263, 3)\n",
      "for cleaning logic purposes: (100000, 3)\n"
     ]
    }
   ],
   "source": [
    "print(\"full dataset:\" + str(data.shape))\n",
    "# To build cleaning logic, take the first 100,000 rows (0.5%)\n",
    "df = data[:100000]\n",
    "print(\"for cleaning logic purposes: \" + str(df.shape))"
   ]
  },
  {
   "cell_type": "code",
   "execution_count": null,
   "metadata": {},
   "outputs": [],
   "source": [
    "# First try at cleaning df (very inefficient)\n",
    "# Iterate and fill another pandas df. Want to look into more efficient method, but for now this'll do.\n",
    "\n",
    "df_clean = pd.DataFrame({'cust_id' : [], 'movie_id' : [], 'rating' : []})\n",
    "movie_id = -1\n",
    "append_dict = {}\n",
    "for row in df.itertuples():\n",
    "    if(math.isnan(row[2])):\n",
    "        movie_id = row[1][:-1]\n",
    "        continue\n",
    "    else:\n",
    "        append_dict[\"cust_id\"] = row[1]\n",
    "        append_dict[\"movie_id\"] = movie_id\n",
    "        append_dict[\"rating\"] = row[2]\n",
    "        df_clean = df_clean.append(append_dict,ignore_index=True)    "
   ]
  },
  {
   "cell_type": "code",
   "execution_count": 116,
   "metadata": {},
   "outputs": [
    {
     "name": "stdout",
     "output_type": "stream",
     "text": [
      "     cust_id movie_id  rating\n",
      "0    1488844        1     3.0\n",
      "1     822109        1     5.0\n",
      "2     885013        1     4.0\n",
      "3      30878        1     4.0\n",
      "4     823519        1     3.0\n",
      "5     893988        1     3.0\n",
      "6     124105        1     4.0\n",
      "7    1248029        1     3.0\n",
      "8    1842128        1     4.0\n",
      "9    2238063        1     3.0\n",
      "10   1503895        1     4.0\n",
      "11   2207774        1     5.0\n",
      "12   2590061        1     3.0\n",
      "13      2442        1     3.0\n",
      "14    543865        1     4.0\n",
      "15   1209119        1     4.0\n",
      "16    804919        1     4.0\n",
      "17   1086807        1     3.0\n",
      "18   1711859        1     4.0\n",
      "19    372233        1     5.0\n",
      "20   1080361        1     3.0\n",
      "21   1245640        1     3.0\n",
      "22    558634        1     4.0\n",
      "23   2165002        1     4.0\n",
      "24   1181550        1     3.0\n",
      "25   1227322        1     4.0\n",
      "26    427928        1     4.0\n",
      "27    814701        1     5.0\n",
      "28    808731        1     4.0\n",
      "29    662870        1     5.0\n",
      "..       ...      ...     ...\n",
      "967  1407746        3     3.0\n",
      "968  1666581        3     4.0\n",
      "969   871548        3     5.0\n",
      "970  2385706        3     4.0\n",
      "971  1969676        3     5.0\n",
      "972  1927329        3     5.0\n",
      "973  1938559        3     5.0\n",
      "974   199769        3     4.0\n",
      "975  2576108        3     1.0\n",
      "976   162854        3     4.0\n",
      "977   215406        3     5.0\n",
      "978  2095263        3     4.0\n",
      "979   556045        3     5.0\n",
      "980   817851        3     4.0\n",
      "981  2491399        3     2.0\n",
      "982  1134816        3     4.0\n",
      "983   660454        3     4.0\n",
      "984   581199        3     4.0\n",
      "985  1545189        3     4.0\n",
      "986  1929487        3     3.0\n",
      "987   528384        3     5.0\n",
      "988  2646115        3     3.0\n",
      "989   727242        3     1.0\n",
      "990   883478        3     1.0\n",
      "991   247940        3     4.0\n",
      "992   369761        3     3.0\n",
      "993  1065126        3     4.0\n",
      "994  1101467        3     4.0\n",
      "995   393413        3     3.0\n",
      "996   478176        3     4.0\n",
      "\n",
      "[997 rows x 3 columns]\n"
     ]
    }
   ],
   "source": [
    "print(df_clean)"
   ]
  },
  {
   "cell_type": "code",
   "execution_count": null,
   "metadata": {},
   "outputs": [],
   "source": []
  }
 ],
 "metadata": {
  "kernelspec": {
   "display_name": "Python 3",
   "language": "python",
   "name": "python3"
  },
  "language_info": {
   "codemirror_mode": {
    "name": "ipython",
    "version": 3
   },
   "file_extension": ".py",
   "mimetype": "text/x-python",
   "name": "python",
   "nbconvert_exporter": "python",
   "pygments_lexer": "ipython3",
   "version": "3.7.1"
  }
 },
 "nbformat": 4,
 "nbformat_minor": 2
}
